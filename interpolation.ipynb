{
 "cells": [
  {
   "cell_type": "markdown",
   "id": "d32a99a3-8555-4b24-9e10-bc5d1ea40f4b",
   "metadata": {},
   "source": [
    "VI.9.32\n",
    "According to the census , the US population changed as follows\n",
    "|Year|Population(people)|\n",
    "|---|---|\n",
    "|1910|92 228 496|\n",
    "|1920|106 021 537|\n",
    "|1930|123 202 624|\n",
    "|1940|132 164 569|\n",
    "|1950|151 325 798|\n",
    "|1960|179 323 175|\n",
    "|1970|203 211 926|\n",
    "|1980|226 545 805|\n",
    "|1990|248 709 873|\n",
    "|2000|281 421 906|\n",
    "\n",
    "According to the data given, construct an interpolant in the form of Newton. Calculate the extrapolated population value\n",
    "In 2010 and compare with the exact value of 308,745,538 people."
   ]
  },
  {
   "cell_type": "code",
   "execution_count": 30,
   "id": "b4aace9e-4849-4bbf-9c92-710aa647a1fc",
   "metadata": {},
   "outputs": [],
   "source": [
    "import numpy as np\n",
    "import bisect\n",
    "\n",
    "years = np.array([1910, 1920, 1930, 1940, 1950, 1960, 1970, 1980, 1990, 2000])\n",
    "population = np.array([92228496,\n",
    "                       106021537,\n",
    "                       123202624,\n",
    "                       132164569,\n",
    "                       151325798,\n",
    "                       179323175,\n",
    "                       203211926,\n",
    "                       226545805,\n",
    "                       248709873,\n",
    "                       281421906])"
   ]
  },
  {
   "cell_type": "code",
   "execution_count": 19,
   "id": "55d264dd-bb65-43d5-b249-1f59b6a83a26",
   "metadata": {},
   "outputs": [
    {
     "name": "stdout",
     "output_type": "stream",
     "text": [
      "[ 9.22284960e+07  1.37930410e+06  1.69402300e+04 -1.93453133e+03\n",
      "  1.25106725e+02 -4.15059800e+00  8.05654167e-02 -7.56485278e-04\n",
      " -7.56467535e-06  5.09932804e-07]\n"
     ]
    }
   ],
   "source": [
    "#table of separated differences\n",
    "def column(x, y):\n",
    "  size = np.shape(x)[0]\n",
    "  sp_tbl = np.zeros([size, size])\n",
    "  for i in range (0, size):\n",
    "    sp_tbl[i, 0] = population[i]\n",
    "  for j in range (1, size):\n",
    "    for i in range (1, size):\n",
    "      sp_tbl[i, j] = (sp_tbl[i, j - 1] - sp_tbl[i-1, j-1]) / (years[i] - years[i - j])\n",
    "  \n",
    "  res = np.zeros([size])\n",
    "  for i in range(0, size):\n",
    "    res[i] = sp_tbl[i, i]\n",
    "  \n",
    "  return res\n",
    "coefficients = column(years, population)\n",
    "print(coefficients)"
   ]
  },
  {
   "cell_type": "markdown",
   "id": "d7852d8d-45ac-4be3-a771-7a407c2a4e8c",
   "metadata": {},
   "source": [
    "Newton 's polynomial:\n",
    "\n",
    "$N_n(x) = b_0 + b_1(x-x_0) + b_2(x-x_0)(x-x_1) + b_n(x - x_0)(x-x_1)...(x-x_n)$"
   ]
  },
  {
   "cell_type": "code",
   "execution_count": 29,
   "id": "1072361c-29a5-4ac3-b88c-9c625239a91d",
   "metadata": {},
   "outputs": [
    {
     "name": "stdout",
     "output_type": "stream",
     "text": [
      "size =  10\n",
      "Interpolated value = 827906509\n",
      "Expected value =  308745538\n"
     ]
    }
   ],
   "source": [
    "def polynomial(coeffs, x_column, x0):\n",
    "    sum = coeffs[0]\n",
    "    xs_multiply = 1.0\n",
    "    print(\"size = \", np.shape(coeffs)[0])\n",
    "    for i in range(np.shape(coeffs)[0] - 1):\n",
    "        xs_multiply = xs_multiply * (x0 - x_column[i])\n",
    "        sum = sum + coeffs[i + 1] * xs_multiply\n",
    "    return sum\n",
    "\n",
    "print (\"Interpolated value = %.0f\" % (polynomial(coefficients, years, 2010)))\n",
    "print (\"Expected value = \", 308745538)"
   ]
  },
  {
   "cell_type": "markdown",
   "id": "835c1d8e-86e2-4f18-abd0-797cf20a63f5",
   "metadata": {},
   "source": [
    "Using the same data to build a spline approximation, extrapolate the data for 2010, compare with the exact value"
   ]
  },
  {
   "cell_type": "code",
   "execution_count": 33,
   "id": "befbcc52-4b36-4c1c-aa66-d5fde5b62f62",
   "metadata": {},
   "outputs": [],
   "source": [
    "def diffs(x):\n",
    "  sz = len(x) - 1\n",
    "  res = np.zeros(sz)\n",
    "  for i in range (sz):\n",
    "    res[i] = x[i+1] - x[i]\n",
    "\n",
    "  return res\n",
    "\n",
    "def calc_tridiag(A, B, C, D):\n",
    "  c_p = np.append(C, 0)\n",
    "  d_p = np.zeros(np.shape(B)[0])\n",
    "  res = np.zeros(np.shape(B)[0])\n",
    "  for i in range(0, np.shape(B)[0]):\n",
    "    if i == 0:\n",
    "      c_p[i] = C[i] / B[i]\n",
    "      d_p[i] = D[i] / B[i]\n",
    "    else:\n",
    "      c_p[i] = c_p[i] / (B[i] - c_p[i - 1] * A[i - 1])\n",
    "      d_p[i] = (D[i] - d_p[i - 1] * A[i - 1]) / (B[i] - c_p[i - 1] * A[i - 1])\n",
    "\n",
    "  res[-1] = d_p[-1]\n",
    "  for i in range(np.shape(B)[0] - 2, -1, -1):\n",
    "      res[i] = d_p[i] - c_p[i] * res[i + 1]\n",
    "\n",
    "  return res\n",
    "\n",
    "def spline(x, y, num):\n",
    "  n = len(x)\n",
    "  h = diffs(x)\n",
    "  A = np.zeros(n - 1)\n",
    "  C = np.zeros(n - 1)\n",
    "  for i in range (n - 2):\n",
    "    A[i] = h[i] / (h[i] + h[i + 1])\n",
    "    C[i + 1] = h[i] / (h[i] + h[i + 1])\n",
    "  B = np.zeros(n)\n",
    "  for i in range (n):\n",
    "    B[i] = 2\n",
    "  D = np.zeros(n)\n",
    "  for i in range (1, n-1):\n",
    "    D[i] = 6 * ((y[i + 1] - y[i]) / h[i] - (y[i] - y[i - 1]) / h[i - 1]) / (h[i] + h[i-1])\n",
    "\n",
    "  tridiag_solved = calc_tridiag(A, B, C, D)\n",
    "\n",
    "  cfs = np.array([\n",
    "      [(tridiag_solved[i+1]-tridiag_solved[i]) * h[i] * h[i] / 6, tridiag_solved[i] * h[i] * h[i] / 2,\n",
    "           (y[i + 1] - y[i] - (tridiag_solved[i + 1]+  2 * tridiag_solved[i]) * h[i] * h[i] / 6), y[i]]\n",
    "              for i in range(n - 1)\n",
    "  ])\n",
    "\n",
    "  idx = min(bisect.bisect(x, num)-1, n-2)\n",
    "  z = (num - x[idx]) / h[idx]\n",
    "  C = cfs[idx]\n",
    "\n",
    "  return (((C[0] * z) + C[1]) * z + C[2]) * z + C[3]\n",
    "\n"
   ]
  },
  {
   "cell_type": "code",
   "execution_count": 39,
   "id": "a0c201ef-2ce6-4b23-95bc-66891fc81057",
   "metadata": {},
   "outputs": [
    {
     "name": "stdout",
     "output_type": "stream",
     "text": [
      "Splined value = 314133939\n",
      "Expected value =  308745538\n"
     ]
    }
   ],
   "source": [
    "print (\"Splined value = %.0f\" % (spline(years, population, 2010)))\n",
    "print (\"Expected value = \", 308745538)"
   ]
  },
  {
   "cell_type": "markdown",
   "id": "516762a3-8711-430b-8c70-9bc5619d3f26",
   "metadata": {},
   "source": [
    "Results getted via spline is much more precisely"
   ]
  }
 ],
 "metadata": {
  "kernelspec": {
   "display_name": "Python 3 (ipykernel)",
   "language": "python",
   "name": "python3"
  },
  "language_info": {
   "codemirror_mode": {
    "name": "ipython",
    "version": 3
   },
   "file_extension": ".py",
   "mimetype": "text/x-python",
   "name": "python",
   "nbconvert_exporter": "python",
   "pygments_lexer": "ipython3",
   "version": "3.10.6"
  }
 },
 "nbformat": 4,
 "nbformat_minor": 5
}
