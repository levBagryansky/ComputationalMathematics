{
 "cells": [
  {
   "cell_type": "markdown",
   "id": "ef47f4f2-05ab-4ad8-89ad-d8d53a8608f9",
   "metadata": {
    "tags": []
   },
   "source": [
    "## For a function given tabularly, calculate the value of a integral by the trapezoid method, refine the result by Richardson extrapolation. Compare the refined result with calculations using the Simpson method."
   ]
  },
  {
   "cell_type": "code",
   "execution_count": 1,
   "id": "37847cfe-1137-488b-b641-38976f8143bb",
   "metadata": {
    "tags": []
   },
   "outputs": [],
   "source": [
    "table_func = {\n",
    "    0.0: 1.0,\n",
    "    0.25: 0.989616,\n",
    "    0.5: 0.958851,\n",
    "    0.75: 0.908852,\n",
    "    1.0: 0.841471,\n",
    "    1.25: 0.759188,\n",
    "    1.5: 0.664997,\n",
    "    1.75: 0.562278,\n",
    "    2.0: 0.454649,\n",
    "}"
   ]
  },
  {
   "cell_type": "markdown",
   "id": "cb6bf71d-e140-442b-b0ad-288949e49658",
   "metadata": {
    "tags": []
   },
   "source": [
    "### TrapezoidalRule result matches the right answer"
   ]
  },
  {
   "cell_type": "code",
   "execution_count": 2,
   "id": "c8bbc5e5-7a82-4085-bd79-f2dbe7801ef1",
   "metadata": {},
   "outputs": [
    {
     "name": "stdout",
     "output_type": "stream",
     "text": [
      "TrapezoidalRule returns this sum:  1.6031443749999998\n"
     ]
    }
   ],
   "source": [
    "def TrapezoidalRule(table_func):\n",
    "    keys = list (table_func.keys())\n",
    "    sum = 0.0\n",
    "    for k, v in table_func.items():\n",
    "        if k == min(keys) or k == max(keys):\n",
    "            sum += 0.5 * table_func[k]\n",
    "        else:\n",
    "            sum += table_func[k]\n",
    "    return sum * (max(keys) - min(keys)) / (len(keys) - 1)\n",
    "\n",
    "print(\"TrapezoidalRule returns this sum: \", TrapezoidalRule(table_func))"
   ]
  },
  {
   "cell_type": "markdown",
   "id": "29a1d691-2b97-4807-a7f0-e4b2861de636",
   "metadata": {
    "tags": []
   },
   "source": [
    "###  Richardson improve"
   ]
  },
  {
   "cell_type": "code",
   "execution_count": 3,
   "id": "8b03f1c0-99a5-48a1-ab47-2307c104b44a",
   "metadata": {},
   "outputs": [
    {
     "name": "stdout",
     "output_type": "stream",
     "text": [
      "1.6054185833333332\n"
     ]
    }
   ],
   "source": [
    "ans1 = TrapezoidalRule(table_func)\n",
    "ans2 = TrapezoidalRule({k: v for k, v in table_func.items() if k % 0.5 == 0})\n",
    "print ((4.0 * ans1 - ans2) / 3.0)"
   ]
  },
  {
   "cell_type": "markdown",
   "id": "cdb47ca9-3ae2-43f1-b03a-d1be97ba2b9f",
   "metadata": {},
   "source": [
    "### Simpson's rule\n"
   ]
  },
  {
   "cell_type": "code",
   "execution_count": 4,
   "id": "a285c211-e797-40ad-8385-16a903d51682",
   "metadata": {},
   "outputs": [
    {
     "data": {
      "text/plain": [
       "1.6054185833333332"
      ]
     },
     "execution_count": 4,
     "metadata": {},
     "output_type": "execute_result"
    }
   ],
   "source": [
    "def Simpson(func):\n",
    "    keys = list (table_func.keys())\n",
    "    a = min(keys)\n",
    "    b = max(keys)\n",
    "    N = len(keys) - 1\n",
    "    h = (b - a) / N\n",
    "    sum = 0.0\n",
    "    for i in range(1, N, 2):\n",
    "        sum += func[keys[i - 1]] + 4*func[keys[i]] + func[keys[i + 1]]\n",
    "    return sum * h / 3\n",
    "\n",
    "Simpson(table_func)\n"
   ]
  },
  {
   "cell_type": "markdown",
   "id": "b16bd5fb-a7e0-4975-8b5c-5d7badcfd2c3",
   "metadata": {},
   "source": [
    "### Answers via Richardson improve and Simson rule are the same and match the right answer."
   ]
  }
 ],
 "metadata": {
  "kernelspec": {
   "display_name": "Python 3 (ipykernel)",
   "language": "python",
   "name": "python3"
  },
  "language_info": {
   "codemirror_mode": {
    "name": "ipython",
    "version": 3
   },
   "file_extension": ".py",
   "mimetype": "text/x-python",
   "name": "python",
   "nbconvert_exporter": "python",
   "pygments_lexer": "ipython3",
   "version": "3.10.6"
  }
 },
 "nbformat": 4,
 "nbformat_minor": 5
}
