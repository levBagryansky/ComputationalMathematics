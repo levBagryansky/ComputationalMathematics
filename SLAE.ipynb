{
  "metadata": {
    "language_info": {
      "codemirror_mode": {
        "name": "python",
        "version": 3
      },
      "file_extension": ".py",
      "mimetype": "text/x-python",
      "name": "python",
      "nbconvert_exporter": "python",
      "pygments_lexer": "ipython3",
      "version": "3.8"
    },
    "kernelspec": {
      "name": "python",
      "display_name": "Python (Pyodide)",
      "language": "python"
    }
  },
  "nbformat_minor": 4,
  "nbformat": 4,
  "cells": [
    {
      "cell_type": "code",
      "source": "import numpy as np\nimport math\nfrom numpy import linalg as LA",
      "metadata": {
        "trusted": true
      },
      "execution_count": 1,
      "outputs": []
    },
    {
      "cell_type": "code",
      "source": "def max_eigenvalue(matrix):\n  w, v = LA.eig(matrix)\n  return max(w)\ndef min_eigenvalue(matrix):\n  w, v = LA.eig(matrix)\n  return min(w)\n\nassert-3 == min_eigenvalue([[1, 0, 0], [0, 2, 0], [0, 0, -3]])\nassert 2 == max_eigenvalue([[1, 0, 0], [0, 2, 0], [0, 0, -3]])",
      "metadata": {
        "trusted": true
      },
      "execution_count": 2,
      "outputs": []
    },
    {
      "cell_type": "code",
      "source": "# Вользмем матрицу из пункта k)\nn = 10\n\nA = np.zeros((n, n))\nf = np.zeros((n, 1))\n\n# a_ii = 1\n# a_ij = 1 / (i + j)\n# f_i = 1 / i\nfor i in range (0, n):\n    f[i] = 1 / (i + 1)\n    for j in range (0, n):\n        if i == j:\n            A[i][j] = 1\n        else:\n            A[i][j] = 1 / ((i + 1) + (j + 1))\nprint (np.transpose(f))\nprint (A)\nprint (\"\\nМаксимальное и минимальные собственные числа: %.3f, %.3f\\nЧисло обуcловленности: %.3f\" \n       % \n       (\n           max_eigenvalue (A),\n           min_eigenvalue (A),\n           LA.cond (A)\n       ))",
      "metadata": {
        "trusted": true
      },
      "execution_count": 3,
      "outputs": [
        {
          "name": "stdout",
          "text": "[[1.         0.5        0.33333333 0.25       0.2        0.16666667\n  0.14285714 0.125      0.11111111 0.1       ]]\n[[1.         0.33333333 0.25       0.2        0.16666667 0.14285714\n  0.125      0.11111111 0.1        0.09090909]\n [0.33333333 1.         0.2        0.16666667 0.14285714 0.125\n  0.11111111 0.1        0.09090909 0.08333333]\n [0.25       0.2        1.         0.14285714 0.125      0.11111111\n  0.1        0.09090909 0.08333333 0.07692308]\n [0.2        0.16666667 0.14285714 1.         0.11111111 0.1\n  0.09090909 0.08333333 0.07692308 0.07142857]\n [0.16666667 0.14285714 0.125      0.11111111 1.         0.09090909\n  0.08333333 0.07692308 0.07142857 0.06666667]\n [0.14285714 0.125      0.11111111 0.1        0.09090909 1.\n  0.07692308 0.07142857 0.06666667 0.0625    ]\n [0.125      0.11111111 0.1        0.09090909 0.08333333 0.07692308\n  1.         0.06666667 0.0625     0.05882353]\n [0.11111111 0.1        0.09090909 0.08333333 0.07692308 0.07142857\n  0.06666667 1.         0.05882353 0.05555556]\n [0.1        0.09090909 0.08333333 0.07692308 0.07142857 0.06666667\n  0.0625     0.05882353 1.         0.05263158]\n [0.09090909 0.08333333 0.07692308 0.07142857 0.06666667 0.0625\n  0.05882353 0.05555556 0.05263158 1.        ]]\n\nМаксимальное и минимальные собственные числа: 2.048, 0.658\nЧисло обуcловленности: 3.113\n",
          "output_type": "stream"
        }
      ]
    },
    {
      "cell_type": "code",
      "source": "def no_zero_minors(matrix):\n    if(len(matrix) == 1 and matrix[0][0] != 0):\n        return True\n    else:\n        little_matrix = matrix[:(len(matrix[0]) - 1), :(len(matrix[0]) - 1)]\n        return (not math.isclose(LA.det(matrix), 0.0)) and no_zero_minors(little_matrix) \n\nassert no_zero_minors(np.array([[1, 0, 0], [0, 2, 0], [0, 0, -3]]))\nassert not no_zero_minors(np.array([[0, 0, 0], [0, 2, 0], [0, 0, -3]]))\nassert no_zero_minors(A)\nprint(\"Все миноры не равны нулю => можно использовать LU разложение\")",
      "metadata": {
        "trusted": true
      },
      "execution_count": 4,
      "outputs": [
        {
          "name": "stdout",
          "text": "Все миноры не равны нулю => можно использовать LU разложение\n",
          "output_type": "stream"
        }
      ]
    },
    {
      "cell_type": "code",
      "source": "def get_LU(matrix):\n  \n    a = np.array(matrix)\n    n = len(a)\n \n    L  = np.zeros([n,n])\n    U = np.zeros([n,n])\n \n    for k in range(n-1):\n                 # Выбрать k-й столбец\n        gauss_vector = a[:,k]\n                 # Найти значение после строки k + 1\n        gauss_vector[k+1:] = gauss_vector[k+1:]/gauss_vector[k]\n        gauss_vector[0:k+1] = np.zeros(k+1)\n        L[:,k] = gauss_vector\n        L[k,k] = 1.0\n                 # Найти значение i-й строки, по которой находится матрица U\n        for i in range(k+1,n):\n            matrix[i,:] = matrix[i,:] - gauss_vector[i]*matrix[k,:]\n        a = np.array(matrix)\n    L[n-1,n-1] = 1.0\n    U  = a\n    return L, U\nl, u = get_LU(A.copy())\nassert np.allclose(A, np.dot(l, u))\n#print(\"L:\\n\", l, '\\n', '*'*65, \"\\nU:\\n\", u)",
      "metadata": {
        "trusted": true
      },
      "execution_count": 5,
      "outputs": []
    },
    {
      "cell_type": "code",
      "source": "# Ly = f\n# Ux = y\n\n# triange is\n# ***.....**\n# 0**.....**\n# 00*.....**\n# 000.....0*\ndef solve_triangle(triangle, f):\n    n = len(f)\n    x = np.zeros((len(f), 1))\n    x[n-1][0] = f[n-1][0]\n    for i in range(n-1, -1, -1):\n        x[i][0] = f[i][0] / triangle[i][i]\n        \n        for j in range(i):\n            f[j][0] = f[j][0] - f[i][0] * triangle[j][i] / triangle[i][i]\n            triangle[j][i] = triangle[j][i] - triangle[i][i] * triangle[j][i] / triangle[i][i]\n        f[i][0] = 0\n    return x\n\ndef solve_low_triangle(triangle, f):\n    n = len(f)\n    x = np.zeros((len(f), 1))\n    x[n-1-1][0] = f[n-1-1][0]\n    for i in range(n-1, -1, -1):\n        x[n-1-i][0] = f[n-1-i][0] / triangle[n-1-i][n-1-i]\n        \n        for j in range(i):\n            f[n-1-j][0] = f[n-1-j][0] - f[n-1-i][0] * triangle[n-1-j][n-1-i] / triangle[n-1-i][n-1-i]\n            triangle[n-1-j][n-1-i] = triangle[n-1-j][n-1-i] - triangle[n-1-i][n-1-i] * triangle[n-1-j][n-1-i] / triangle[n-1-i][n-1-i]\n        f[n-1-i][0] = 0\n    return x\n",
      "metadata": {
        "trusted": true
      },
      "execution_count": 6,
      "outputs": []
    },
    {
      "cell_type": "code",
      "source": "#Test of solvings\nM_test = [[1, 2, 3, 4], [0, 2, -4, 5], [0, 0, -3, 6], [0, 0, 0, 2]]\nf_test = [[1], [2], [3], [4]]\nright = LA.solve(M_test.copy(), f_test.copy())\nmy_solve = solve_triangle(M_test.copy(), f_test.copy())\nassert np.allclose(right, my_solve)\n\nM_test = np.transpose([[1, 2, 3, 4], [0, 2, -4, 5], [0, 0, -3, 6], [0, 0, 0, 2]])\nf_test = [[5], [6], [7], [8]]\nright    = LA.solve      (M_test.copy(), f_test.copy())\nmy_solve = solve_low_triangle(M_test.copy(), f_test.copy())\nassert np.allclose(right, my_solve)",
      "metadata": {
        "trusted": true
      },
      "execution_count": 7,
      "outputs": []
    },
    {
      "cell_type": "code",
      "source": "# final solution by LU\nmy_solution = solve_triangle(u.copy(), solve_low_triangle(l.copy(), f.copy()))\nprint(\"My solution = \\n\", my_solution)\nassert np.allclose(my_solution, LA.solve(A, f))\nprint(\"Невязка:\\n\", f - np.matmul(A, my_solution))",
      "metadata": {
        "trusted": true
      },
      "execution_count": 8,
      "outputs": [
        {
          "name": "stdout",
          "text": "My solution = \n [[ 9.19077109e-01]\n [ 1.75540170e-01]\n [ 6.39348240e-02]\n [ 2.72747640e-02]\n [ 1.14234685e-02]\n [ 3.51083928e-03]\n [-7.89957814e-04]\n [-3.25080145e-03]\n [-4.69787781e-03]\n [-5.55373994e-03]]\nНевязка:\n [[ 0.00000000e+00]\n [-1.11022302e-16]\n [-5.55111512e-17]\n [ 0.00000000e+00]\n [-2.77555756e-17]\n [-5.55111512e-17]\n [ 0.00000000e+00]\n [ 0.00000000e+00]\n [ 0.00000000e+00]\n [-2.77555756e-17]]\n",
          "output_type": "stream"
        }
      ]
    },
    {
      "cell_type": "code",
      "source": "# Верхняя релаксация\nomega = 1.5\ndef get_L_D_U(matrix):\n    n = len(matrix)\n    L = np.zeros((n, n))\n    D = L.copy()\n    U = L.copy()\n    for y in range(n):\n        for x in range(n):\n            if(x == y):\n                D[y][x] = matrix[y][x]\n            elif(x < y):\n                L[y][x] = matrix[y][x]\n            else:\n                U[y][x] = matrix[y][x]\n    return L, D, U\n\ndef get_relax(matrix, f):\n    L, D, U = get_L_D_U(matrix)\n    x = np.zeros((len(matrix), 1))\n    y = x\n    i = 0\n    while LA.norm(f - matrix @ x) > 1e-2 or LA.norm(f - matrix @ y):\n        i += 1\n        # Верхняя релаксация\n        x = -LA.inv(D + omega * L) @ (((omega - 1) * D + omega * L) @ x) + omega* LA.inv(D + omega * L) @ f\n        # Зейдель\n        y = -LA.inv(D + omega * L) @ U @ y + LA.inv(D + omega * L) @ f\n        if (i > 1e5):\n            print(\"Методы не сходятся\")\n            print(\"норма разности = \", LA.norm(f - matrix @ x))\n            break\n    return x\n\nprint(get_relax(A, f))",
      "metadata": {
        "trusted": true
      },
      "execution_count": 9,
      "outputs": [
        {
          "name": "stdout",
          "text": "Методы не сходятся\nнорма разности =  0.5441543970664942\n[[ 1.        ]\n [-0.16666667]\n [-0.1       ]\n [-0.06587302]\n [-0.04607584]\n [-0.0336067 ]\n [-0.02527934]\n [-0.01946811]\n [-0.01527144]\n [-0.01215639]]\n",
          "output_type": "stream"
        }
      ]
    }
  ]
}